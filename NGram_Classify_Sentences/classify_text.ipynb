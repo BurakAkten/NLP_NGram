{
 "cells": [
  {
   "cell_type": "code",
   "execution_count": 1,
   "metadata": {},
   "outputs": [],
   "source": [
    "import pickle\n",
    "from utils.Ngram import *"
   ]
  },
  {
   "cell_type": "code",
   "execution_count": 2,
   "metadata": {},
   "outputs": [],
   "source": [
    "char_model_1_name = \"turkish_char_models/character_model1\"\n",
    "char_model_2_name = \"turkish_char_models/character_model2\"\n",
    "char_model_3_name = \"turkish_char_models/character_model3\"\n",
    "char_model_4_name = \"turkish_char_models/character_model4\"\n",
    "char_model_5_name = \"turkish_char_models/character_model5\"\n",
    "\n",
    "\n",
    "eng_char_model_1_name = \"eng_char_models/eng_character_model1\"\n",
    "eng_char_model_2_name = \"eng_char_models/eng_character_model2\"\n",
    "eng_char_model_3_name = \"eng_char_models/eng_character_model3\"\n",
    "eng_char_model_4_name = \"eng_char_models/eng_character_model4\"\n",
    "eng_char_model_5_name = \"eng_char_models/eng_character_model5\""
   ]
  },
  {
   "cell_type": "code",
   "execution_count": 11,
   "metadata": {},
   "outputs": [
    {
     "name": "stdout",
     "output_type": "stream",
     "text": [
      "N-Gram model is loading...\n",
      "The model is loaded...\n",
      "N-Gram model is loading...\n",
      "The model is loaded...\n",
      "N-Gram model is loading...\n",
      "The model is loaded...\n",
      "N-Gram model is loading...\n",
      "The model is loaded...\n",
      "N-Gram model is loading...\n",
      "The model is loaded...\n",
      "N-Gram model is loading...\n",
      "The model is loaded...\n",
      "N-Gram model is loading...\n",
      "The model is loaded...\n",
      "N-Gram model is loading...\n",
      "The model is loaded...\n",
      "N-Gram model is loading...\n",
      "The model is loaded...\n",
      "N-Gram model is loading...\n",
      "The model is loaded...\n"
     ]
    }
   ],
   "source": [
    "turkish_model1 = NGram.load_model(char_model_1_name)\n",
    "eng_model1     = NGram.load_model(eng_char_model_1_name)\n",
    "\n",
    "turkish_model2 = NGram.load_model(char_model_2_name)\n",
    "eng_model2     = NGram.load_model(eng_char_model_2_name)\n",
    "\n",
    "turkish_model3 = NGram.load_model(char_model_3_name)\n",
    "eng_model3     = NGram.load_model(eng_char_model_3_name)\n",
    "\n",
    "turkish_model4 = NGram.load_model(char_model_4_name)\n",
    "eng_model4     = NGram.load_model(eng_char_model_4_name)\n",
    "\n",
    "turkish_model5 = NGram.load_model(char_model_5_name)\n",
    "eng_model5     = NGram.load_model(eng_char_model_5_name)\n",
    "\n"
   ]
  },
  {
   "cell_type": "code",
   "execution_count": 12,
   "metadata": {},
   "outputs": [],
   "source": [
    "def classify_text(eng_model , turkish_model, text):\n",
    "    \n",
    "    \n",
    "    turkish_model_res = turkish_model.probability_of(text)\n",
    "    eng_model_res     = eng_model.probability_of(text)\n",
    "    \n",
    "    print(\"Turkish result => \" + turkish_model_res)\n",
    "    print(\"English result => \" + eng_model_res)\n",
    "    \n",
    "    \n",
    "    \n",
    "    \n",
    "    turkish_model_res = (turkish_model_res.split(\":\"))[1]\n",
    "    eng_model_res = (eng_model_res.split(\":\"))[1]\n",
    "    \n",
    "    print(\"According to these results this text is probably \" , end = \"\")\n",
    "    if(float(turkish_model_res) > float(eng_model_res)):\n",
    "        print(\"Turkish\")\n",
    "    else:\n",
    "        print(\"English\")\n",
    "    \n",
    "    "
   ]
  },
  {
   "cell_type": "code",
   "execution_count": 14,
   "metadata": {},
   "outputs": [
    {
     "name": "stdout",
     "output_type": "stream",
     "text": [
      "Turkish result => The probability of the character type 1-gram for the given text : 2.9493551570094044e-14\n",
      "English result => The probability of the character type 1-gram for the given text : 3.656170163315593e-12\n",
      "According to these results this text is probably English\n",
      "Turkish result => The probability of the character type 2-gram for the given text : 1.0416984582172767e-22\n",
      "English result => The probability of the character type 2-gram for the given text : 2.2462826906272927e-18\n",
      "According to these results this text is probably English\n",
      "Turkish result => The probability of the character type 3-gram for the given text : 2.0660528203423682e-29\n",
      "English result => The probability of the character type 3-gram for the given text : 1.8782591481398366e-23\n",
      "According to these results this text is probably English\n",
      "Turkish result => The probability of the character type 4-gram for the given text : 1.5022409034633915e-34\n",
      "English result => The probability of the character type 4-gram for the given text : 2.3027694312727635e-26\n",
      "According to these results this text is probably English\n",
      "Turkish result => The probability of the character type 5-gram for the given text : 7.467057352571174e-37\n",
      "English result => The probability of the character type 5-gram for the given text : 5.819097670256107e-27\n",
      "According to these results this text is probably English\n"
     ]
    }
   ],
   "source": [
    "if __name__ == \"__main__\":\n",
    "    \n",
    "    test_text1 = \"he is hero\"\n",
    "    test_text2 = \"he is hero\"\n",
    "    \n",
    "    \n",
    "    #turkish_model = NGram.load_model(char_model_3_name)\n",
    "    #eng_model     = NGram.load_model(eng_char_model_3_name)\n",
    "    \n",
    "    \n",
    "    classify_text(eng_model1 , turkish_model1 , test_text1)\n",
    "    classify_text(eng_model2 , turkish_model2 , test_text1)\n",
    "    classify_text(eng_model3 , turkish_model3 , test_text1)\n",
    "    classify_text(eng_model4 , turkish_model4 , test_text1)\n",
    "    classify_text(eng_model5 , turkish_model5 , test_text1)\n",
    "    "
   ]
  },
  {
   "cell_type": "code",
   "execution_count": null,
   "metadata": {},
   "outputs": [],
   "source": []
  }
 ],
 "metadata": {
  "kernelspec": {
   "display_name": "Python 3",
   "language": "python",
   "name": "python3"
  },
  "language_info": {
   "codemirror_mode": {
    "name": "ipython",
    "version": 3
   },
   "file_extension": ".py",
   "mimetype": "text/x-python",
   "name": "python",
   "nbconvert_exporter": "python",
   "pygments_lexer": "ipython3",
   "version": "3.7.1"
  }
 },
 "nbformat": 4,
 "nbformat_minor": 2
}
